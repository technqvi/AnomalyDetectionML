{
 "cells": [
  {
   "cell_type": "code",
   "execution_count": 79,
   "id": "e171ca5d-86a7-46a6-b111-8e64f27c483f",
   "metadata": {},
   "outputs": [],
   "source": [
    "import numpy as np\n",
    "import pandas as pd\n",
    "import seaborn as sns\n",
    "import matplotlib.pyplot as plt\n",
    "from sklearn.ensemble import IsolationForest"
   ]
  },
  {
   "cell_type": "code",
   "execution_count": 95,
   "id": "bfa845bf-d7a1-4813-8765-ae6b3d41ebb0",
   "metadata": {},
   "outputs": [],
   "source": [
    "col_name='RSI'\n",
    "ratio_outlier=0.1  # 5% max is 0.5 (50%)\n",
    "upX=65\n",
    "downX=35"
   ]
  },
  {
   "cell_type": "code",
   "execution_count": 96,
   "id": "aef2b877-73e9-4adf-b52e-6d0e6aff8b40",
   "metadata": {},
   "outputs": [
    {
     "data": {
      "text/html": [
       "<div>\n",
       "<style scoped>\n",
       "    .dataframe tbody tr th:only-of-type {\n",
       "        vertical-align: middle;\n",
       "    }\n",
       "\n",
       "    .dataframe tbody tr th {\n",
       "        vertical-align: top;\n",
       "    }\n",
       "\n",
       "    .dataframe thead th {\n",
       "        text-align: right;\n",
       "    }\n",
       "</style>\n",
       "<table border=\"1\" class=\"dataframe\">\n",
       "  <thead>\n",
       "    <tr style=\"text-align: right;\">\n",
       "      <th></th>\n",
       "      <th>RSI</th>\n",
       "    </tr>\n",
       "    <tr>\n",
       "      <th>Date</th>\n",
       "      <th></th>\n",
       "    </tr>\n",
       "  </thead>\n",
       "  <tbody>\n",
       "    <tr>\n",
       "      <th>2009-01-09</th>\n",
       "      <td>41.76</td>\n",
       "    </tr>\n",
       "    <tr>\n",
       "      <th>2009-01-16</th>\n",
       "      <td>36.74</td>\n",
       "    </tr>\n",
       "    <tr>\n",
       "      <th>2009-01-23</th>\n",
       "      <td>36.28</td>\n",
       "    </tr>\n",
       "    <tr>\n",
       "      <th>2009-01-30</th>\n",
       "      <td>37.57</td>\n",
       "    </tr>\n",
       "    <tr>\n",
       "      <th>2009-02-06</th>\n",
       "      <td>40.24</td>\n",
       "    </tr>\n",
       "    <tr>\n",
       "      <th>2009-02-13</th>\n",
       "      <td>40.61</td>\n",
       "    </tr>\n",
       "    <tr>\n",
       "      <th>2009-02-20</th>\n",
       "      <td>37.37</td>\n",
       "    </tr>\n",
       "    <tr>\n",
       "      <th>2009-02-27</th>\n",
       "      <td>37.01</td>\n",
       "    </tr>\n",
       "    <tr>\n",
       "      <th>2009-03-06</th>\n",
       "      <td>33.83</td>\n",
       "    </tr>\n",
       "    <tr>\n",
       "      <th>2009-03-13</th>\n",
       "      <td>37.09</td>\n",
       "    </tr>\n",
       "  </tbody>\n",
       "</table>\n",
       "</div>"
      ],
      "text/plain": [
       "              RSI\n",
       "Date             \n",
       "2009-01-09  41.76\n",
       "2009-01-16  36.74\n",
       "2009-01-23  36.28\n",
       "2009-01-30  37.57\n",
       "2009-02-06  40.24\n",
       "2009-02-13  40.61\n",
       "2009-02-20  37.37\n",
       "2009-02-27  37.01\n",
       "2009-03-06  33.83\n",
       "2009-03-13  37.09"
      ]
     },
     "execution_count": 96,
     "metadata": {},
     "output_type": "execute_result"
    }
   ],
   "source": [
    "df = pd.read_csv('data/SET50-Indy-Week.csv',parse_dates=['Date/Time'],dayfirst=True,usecols=['Date/Time',col_name])\n",
    "df.rename(columns={'Date/Time':'Date'},inplace=True)\n",
    "df.set_index('Date',inplace=True)\n",
    "df.head(10)"
   ]
  },
  {
   "cell_type": "code",
   "execution_count": 97,
   "id": "6acc77d6-08f5-4daa-bc3f-f0605bf61918",
   "metadata": {},
   "outputs": [
    {
     "data": {
      "text/plain": [
       "Text(0.5, 0, 'RSI distribution')"
      ]
     },
     "execution_count": 97,
     "metadata": {},
     "output_type": "execute_result"
    },
    {
     "data": {
      "image/png": "[encoded data removed]",
      "text/plain": [
       "<Figure size 640x480 with 1 Axes>"
      ]
     },
     "metadata": {},
     "output_type": "display_data"
    }
   ],
   "source": [
    "sns.set_style(\"whitegrid\")\n",
    "ax = sns.boxplot(data=df[col_name])\n",
    "ax.set_xlabel(f'{col_name} distribution')"
   ]
  },
  {
   "cell_type": "code",
   "execution_count": 98,
   "id": "70887736-50a6-46dd-9e3e-63b67c26fcb6",
   "metadata": {},
   "outputs": [
    {
     "name": "stderr",
     "output_type": "stream",
     "text": [
      "D:\\ProgramData\\Anaconda3\\envs\\ml-ai\\lib\\site-packages\\sklearn\\base.py:450: UserWarning: X does not have valid feature names, but IsolationForest was fitted with feature names\n",
      "  warnings.warn(\n"
     ]
    }
   ],
   "source": [
    "#model=IsolationForest(n_estimators=100, max_samples='auto', contamination='auto')  #contamination=float(ratio_outlier)\n",
    "model=IsolationForest(n_estimators=100, max_samples='auto', contamination=float(ratio_outlier))  \n",
    "model.fit(df[[col_name]])\n",
    "\n",
    "df['scores']=model.decision_function(df[[col_name]])\n",
    "df['anomaly']=model.predict(df[[col_name]])"
   ]
  },
  {
   "cell_type": "code",
   "execution_count": 99,
   "id": "684c0067-4c16-4f6c-bb70-98f7bf433518",
   "metadata": {},
   "outputs": [
    {
     "name": "stdout",
     "output_type": "stream",
     "text": [
      "32\n",
      "              RSI    scores  anomaly\n",
      "Date                                \n",
      "2009-05-29  80.26 -0.009436       -1\n",
      "2009-06-05  85.87 -0.117182       -1\n",
      "2009-06-12  88.04 -0.168521       -1\n",
      "2009-10-02  80.31 -0.015183       -1\n",
      "2009-10-09  83.09 -0.076383       -1\n",
      "2010-04-02  77.68 -0.013345       -1\n",
      "2010-09-03  80.16 -0.005261       -1\n",
      "2010-09-24  81.17 -0.035681       -1\n",
      "2010-10-01  84.43 -0.100556       -1\n",
      "2010-10-08  77.35 -0.012388       -1\n",
      "2010-10-15  81.74 -0.052944       -1\n",
      "2010-10-22  77.79 -0.013768       -1\n",
      "2010-11-05  80.76 -0.027207       -1\n",
      "2012-02-24  76.81 -0.000401       -1\n",
      "2012-03-30  80.09 -0.002971       -1\n",
      "2012-12-28  76.73 -0.000401       -1\n",
      "2013-02-01  83.46 -0.083085       -1\n",
      "2013-02-08  77.71 -0.013345       -1\n",
      "2013-02-22  80.79 -0.027207       -1\n",
      "2013-03-08  82.19 -0.066469       -1\n",
      "2013-03-15  85.02 -0.100441       -1\n",
      "2017-09-08  78.52 -0.003452       -1\n",
      "2017-09-15  82.68 -0.075003       -1\n",
      "2017-09-29  81.55 -0.044872       -1\n",
      "2017-10-06  84.15 -0.096050       -1\n",
      "2017-10-12  86.30 -0.122273       -1\n",
      "2017-12-22  78.40 -0.004103       -1\n",
      "2018-01-05  85.05 -0.100441       -1\n",
      "2018-01-12  86.13 -0.120525       -1\n",
      "2018-01-19  87.07 -0.146226       -1\n",
      "2018-01-26  87.76 -0.165570       -1\n",
      "2018-02-02  86.59 -0.131100       -1\n"
     ]
    },
    {
     "data": {
      "text/plain": [
       "<AxesSubplot: xlabel='RSI', ylabel='Count'>"
      ]
     },
     "execution_count": 99,
     "metadata": {},
     "output_type": "execute_result"
    },
    {
     "data": {
      "image/png": "[encoded data removed]",
      "text/plain": [
       "<Figure size 640x480 with 1 Axes>"
      ]
     },
     "metadata": {},
     "output_type": "display_data"
    }
   ],
   "source": [
    "upAnomaly=df.query(f'anomaly==-1 and {col_name}>@upX')\n",
    "print(len(upAnomaly))\n",
    "print(upAnomaly)\n",
    "sns.set_style('whitegrid')\n",
    "sns.histplot(upAnomaly[col_name], kde = False, color ='green')"
   ]
  },
  {
   "cell_type": "code",
   "execution_count": 100,
   "id": "02005f8b-17cb-427b-81ea-df4dd8071204",
   "metadata": {},
   "outputs": [
    {
     "name": "stdout",
     "output_type": "stream",
     "text": [
      "41\n",
      "              RSI    scores  anomaly\n",
      "Date                                \n",
      "2011-09-23  31.48 -0.009638       -1\n",
      "2011-09-30  26.85 -0.051561       -1\n",
      "2011-10-07  26.81 -0.051561       -1\n",
      "2013-08-23  32.47 -0.013767       -1\n",
      "2013-08-30  28.97 -0.021181       -1\n",
      "2014-01-03  25.76 -0.060284       -1\n",
      "2015-07-24  28.92 -0.023858       -1\n",
      "2015-08-07  29.20 -0.024801       -1\n",
      "2015-08-14  26.78 -0.051561       -1\n",
      "2015-08-21  20.01 -0.146651       -1\n",
      "2015-08-28  24.35 -0.065951       -1\n",
      "2015-09-04  24.09 -0.071481       -1\n",
      "2015-09-11  27.00 -0.049310       -1\n",
      "2015-09-18  30.76 -0.023802       -1\n",
      "2015-09-25  27.47 -0.043890       -1\n",
      "2015-10-02  22.80 -0.097445       -1\n",
      "2015-12-04  31.67 -0.013528       -1\n",
      "2015-12-11  25.12 -0.066773       -1\n",
      "2015-12-18  24.76 -0.063252       -1\n",
      "2015-12-25  24.54 -0.062434       -1\n",
      "2015-12-30  24.27 -0.067223       -1\n",
      "2016-01-08  18.76 -0.152411       -1\n",
      "2016-01-15  18.20 -0.163711       -1\n",
      "2016-01-22  29.06 -0.022514       -1\n",
      "2018-06-22  25.01 -0.068047       -1\n",
      "2018-06-29  22.04 -0.111406       -1\n",
      "2018-07-06  27.93 -0.035574       -1\n",
      "2020-01-31  30.84 -0.022095       -1\n",
      "2020-02-21  30.18 -0.024994       -1\n",
      "2020-02-28  16.90 -0.168623       -1\n",
      "2020-03-06  22.76 -0.100659       -1\n",
      "2020-03-13  12.72 -0.197271       -1\n",
      "2020-03-20  14.52 -0.186083       -1\n",
      "2020-03-27  13.80 -0.190640       -1\n",
      "2020-04-03  20.98 -0.131888       -1\n",
      "2020-09-25  30.37 -0.024939       -1\n",
      "2020-10-02  28.99 -0.020788       -1\n",
      "2020-10-16  32.95 -0.000341       -1\n",
      "2020-10-22  30.61 -0.023013       -1\n",
      "2020-10-30  27.99 -0.036381       -1\n",
      "2022-05-13  31.33 -0.009696       -1\n"
     ]
    },
    {
     "data": {
      "text/plain": [
       "<AxesSubplot: xlabel='RSI', ylabel='Count'>"
      ]
     },
     "execution_count": 100,
     "metadata": {},
     "output_type": "execute_result"
    },
    {
     "data": {
      "image/png": "[encoded data removed]",
      "text/plain": [
       "<Figure size 640x480 with 1 Axes>"
      ]
     },
     "metadata": {},
     "output_type": "display_data"
    }
   ],
   "source": [
    "downAnomaly=df.query(f'anomaly==-1 and {col_name}<@downX')\n",
    "print(len(downAnomaly))\n",
    "print(downAnomaly)\n",
    "\n",
    "sns.set_style('whitegrid')\n",
    "sns.histplot(downAnomaly[col_name], kde = False, color ='green')"
   ]
  },
  {
   "cell_type": "code",
   "execution_count": 101,
   "id": "f4c6a4e2-9baf-4aae-b552-6bf011e369de",
   "metadata": {},
   "outputs": [
    {
     "name": "stdout",
     "output_type": "stream",
     "text": [
      "Accuracy percentage: 73/73=100.0 %\n",
      "Outlier percentage: 73/730=10.0 %\n"
     ]
    }
   ],
   "source": [
    "all_data=len(df)\n",
    "all_outlier=len(df.query('anomaly==-1'))\n",
    "my_outliers=len(upAnomaly)+len(downAnomaly)\n",
    "                \n",
    "pct_myOulier=round(my_outliers/all_outlier*100,2)\n",
    "pct_allOutlier=round(all_outlier/all_data*100,2)\n",
    "                \n",
    "print(f\"Accuracy percentage: {my_outliers}/{all_outlier}={pct_myOulier} %\")\n",
    "print(f\"Outlier percentage: {all_outlier}/{all_data}={pct_allOutlier} %\")"
   ]
  },
  {
   "cell_type": "code",
   "execution_count": null,
   "id": "7965103d-7ec1-40ab-8639-272dfba621e5",
   "metadata": {},
   "outputs": [],
   "source": []
  },
  {
   "cell_type": "code",
   "execution_count": null,
   "id": "bf2c9a81-b16b-448e-b287-f405274d3ec8",
   "metadata": {},
   "outputs": [],
   "source": []
  }
 ],
 "metadata": {
  "kernelspec": {
   "display_name": "Python 3 (ipykernel)",
   "language": "python",
   "name": "python3"
  },
  "language_info": {
   "codemirror_mode": {
    "name": "ipython",
    "version": 3
   },
   "file_extension": ".py",
   "mimetype": "text/x-python",
   "name": "python",
   "nbconvert_exporter": "python",
   "pygments_lexer": "ipython3",
   "version": "3.9.13"
  }
 },
 "nbformat": 4,
 "nbformat_minor": 5
}
